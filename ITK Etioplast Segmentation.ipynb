{
 "cells": [
  {
   "cell_type": "code",
   "execution_count": 3,
   "metadata": {
    "collapsed": true
   },
   "outputs": [],
   "source": [
    "import itk\n",
    "import matplotlib.pyplot as plt\n",
    "import requests\n",
    "import os"
   ]
  },
  {
   "cell_type": "code",
   "execution_count": 2,
   "metadata": {
    "collapsed": true
   },
   "outputs": [],
   "source": [
    "%matplotlib notebook"
   ]
  },
  {
   "cell_type": "code",
   "execution_count": 4,
   "metadata": {
    "collapsed": true
   },
   "outputs": [],
   "source": [
    "# Download Etioplast image from Chris Woodcock,\n",
    "# http://www.cellimagelibrary.org/images/684\n",
    "filepath = '684.tif'\n",
    "if not os.path.exists(filepath):\n",
    "    url = 'http://grackle.crbs.ucsd.edu:8080/OmeroWebService/images/684.tif'\n",
    "    request = requests.get(url)\n",
    "    with open(filepath, 'wb') as fp:\n",
    "        fp.write(request.content)"
   ]
  },
  {
   "cell_type": "markdown",
   "metadata": {},
   "source": [
    "In the center of the figure is an [etioplast, with prolamellar bodies,](http://www.cellimagelibrary.org/images/684#download_options_button) the [lattice of spherical structures at the center of the etioplast](https://www.researchgate.net/publication/226671748_The_Diversity_of_Plastid_Form_and_Function/figures), with thylakoid membranes extending. The dark circular structures are [osmiophilic globules](http://www.cellimagelibrary.org/images/39077)."
   ]
  },
  {
   "cell_type": "code",
   "execution_count": 9,
   "metadata": {},
   "outputs": [
    {
     "name": "stdout",
     "output_type": "stream",
     "text": [
      "Image (0x568d670)\n",
      "  RTTI typeinfo:   itk::Image<float, 2u>\n",
      "  Reference Count: 2\n",
      "  Modified Time: 581\n",
      "  Debug: Off\n",
      "  Object Name: \n",
      "  Observers: \n",
      "    none\n",
      "  Source: (0x5e6ca80) \n",
      "  Source output name: Primary\n",
      "  Release Data: Off\n",
      "  Data Released: False\n",
      "  Global Release Data: Off\n",
      "  PipelineMTime: 447\n",
      "  UpdateMTime: 582\n",
      "  RealTimeStamp: 0 seconds \n",
      "  LargestPossibleRegion: \n",
      "    Dimension: 2\n",
      "    Index: [0, 0]\n",
      "    Size: [4183, 2804]\n",
      "  BufferedRegion: \n",
      "    Dimension: 2\n",
      "    Index: [0, 0]\n",
      "    Size: [4183, 2804]\n",
      "  RequestedRegion: \n",
      "    Dimension: 2\n",
      "    Index: [0, 0]\n",
      "    Size: [4183, 2804]\n",
      "  Spacing: [1, 1]\n",
      "  Origin: [0, 0]\n",
      "  Direction: \n",
      "1 0\n",
      "0 1\n",
      "\n",
      "  IndexToPointMatrix: \n",
      "1 0\n",
      "0 1\n",
      "\n",
      "  PointToIndexMatrix: \n",
      "1 0\n",
      "0 1\n",
      "\n",
      "  Inverse Direction: \n",
      "1 0\n",
      "0 1\n",
      "\n",
      "  PixelContainer: \n",
      "    ImportImageContainer (0x568ad40)\n",
      "      RTTI typeinfo:   itk::ImportImageContainer<unsigned long, float>\n",
      "      Reference Count: 1\n",
      "      Modified Time: 579\n",
      "      Debug: Off\n",
      "      Object Name: \n",
      "      Observers: \n",
      "        none\n",
      "      Pointer: 0x7fbd87d4a010\n",
      "      Container manages memory: true\n",
      "      Size: 11729132\n",
      "      Capacity: 11729132\n",
      "\n"
     ]
    }
   ],
   "source": [
    "Dimension = 2\n",
    "PixelType = itk.ctype('float')\n",
    "ImageType = itk.Image[PixelType, Dimension]\n",
    "reader = itk.ImageFileReader[ImageType].New(FileName=filepath)\n",
    "reader.Update()\n",
    "image = reader.GetOutput()\n",
    "print(image)"
   ]
  },
  {
   "cell_type": "code",
   "execution_count": null,
   "metadata": {
    "collapsed": true
   },
   "outputs": [],
   "source": []
  }
 ],
 "metadata": {
  "kernelspec": {
   "display_name": "Python 2",
   "language": "python",
   "name": "python2"
  },
  "language_info": {
   "codemirror_mode": {
    "name": "ipython",
    "version": 2
   },
   "file_extension": ".py",
   "mimetype": "text/x-python",
   "name": "python",
   "nbconvert_exporter": "python",
   "pygments_lexer": "ipython2",
   "version": "2.7.12"
  }
 },
 "nbformat": 4,
 "nbformat_minor": 2
}
